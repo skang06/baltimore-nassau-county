{
  "nbformat": 4,
  "nbformat_minor": 0,
  "metadata": {
    "colab": {
      "name": "Baltimore-Nassau-sunwookang.ipynb",
      "provenance": [],
      "toc_visible": true,
      "include_colab_link": true
    },
    "kernelspec": {
      "name": "python3",
      "display_name": "Python 3"
    }
  },
  "cells": [
    {
      "cell_type": "markdown",
      "metadata": {
        "id": "view-in-github",
        "colab_type": "text"
      },
      "source": [
        "<a href=\"https://colab.research.google.com/github/skang06/baltimore-nassau-county/blob/master/Baltimore_Nassau_sunwookang.ipynb\" target=\"_parent\"><img src=\"https://colab.research.google.com/assets/colab-badge.svg\" alt=\"Open In Colab\"/></a>"
      ]
    },
    {
      "cell_type": "markdown",
      "metadata": {
        "id": "tpCNi3wiZeFq"
      },
      "source": [
        "# Comparing Household Income in Baltimore City, MD and Nassau County, NY with Opportunity Atlas Data\n"
      ]
    },
    {
      "cell_type": "markdown",
      "metadata": {
        "id": "pARyNP7tZn05"
      },
      "source": [
        "A look into  \n",
        "\n",
        "\n"
      ]
    },
    {
      "cell_type": "markdown",
      "metadata": {
        "id": "RUVNvL0DZszy"
      },
      "source": [
        "# import libraries\n",
        "\n"
      ]
    },
    {
      "cell_type": "code",
      "metadata": {
        "id": "HUjCn77xaFkU",
        "colab": {
          "base_uri": "https://localhost:8080/"
        },
        "outputId": "f75060b2-a526-4779-e4e6-6479fa3026d9"
      },
      "source": [
        "%pip install plotly\n",
        "\n",
        "# import libraries\n",
        "\n",
        "#for data analysis\n",
        "import pandas as pd\n",
        "import numpy as np\n",
        "\n",
        "#for visuals\n",
        "import plotly.express as px\n",
        "\n",
        "\n"
      ],
      "execution_count": null,
      "outputs": [
        {
          "output_type": "stream",
          "text": [
            "Requirement already satisfied: plotly in /usr/local/lib/python3.6/dist-packages (4.4.1)\n",
            "Requirement already satisfied: six in /usr/local/lib/python3.6/dist-packages (from plotly) (1.15.0)\n",
            "Requirement already satisfied: retrying>=1.3.3 in /usr/local/lib/python3.6/dist-packages (from plotly) (1.3.3)\n"
          ],
          "name": "stdout"
        }
      ]
    },
    {
      "cell_type": "markdown",
      "metadata": {
        "id": "IJ4UnFfdacVM"
      },
      "source": [
        "# import data"
      ]
    },
    {
      "cell_type": "code",
      "metadata": {
        "id": "mm2UHwqVafmW"
      },
      "source": [
        "# import data\n",
        "\n",
        "# data \n",
        "\n",
        "#household income for 25th percentile in Nassau County\n",
        "df_25th_nassau = pd.read_csv(\"https://raw.githubusercontent.com/skang06/baltimore-nassau-county/master/shown_tract_kfr_rP_gP_p25%20(11).csv\")\n",
        "\n",
        "#household income for 50th percentile in Nassau County\n",
        "df_50th_nassau = pd.read_csv(\"https://raw.githubusercontent.com/skang06/baltimore-nassau-county/master/shown_tract_kfr_rP_gP_p50%20(7).csv\")\n",
        "\n",
        "#household income for 75th percentile in Nassau County\n",
        "df_75th_nassau = pd.read_csv(\"https://raw.githubusercontent.com/skang06/baltimore-nassau-county/master/shown_tract_kfr_rP_gP_p75%20(2).csv\")\n",
        "\n",
        "#household income for 25th percentile in Baltimore City\n",
        "df_25th_baltimore = pd.read_csv(\"https://raw.githubusercontent.com/skang06/baltimore-nassau-county/master/shown_tract_kfr_rP_gP_p25%20(12).csv\")\n",
        "\n",
        "#household income for 50th percentile in Baltimore City\n",
        "df_50th_baltimore = pd.read_csv(\"https://raw.githubusercontent.com/skang06/baltimore-nassau-county/master/shown_tract_kfr_rP_gP_p50%20(8).csv\")\n",
        "\n",
        "#household income for 75th percentile in Baltimore City\n",
        "df_75th_baltimore = pd.read_csv(\"https://raw.githubusercontent.com/skang06/baltimore-nassau-county/master/shown_tract_kfr_rP_gP_p75%20(3).csv\")\n",
        "\n",
        "\n"
      ],
      "execution_count": null,
      "outputs": []
    },
    {
      "cell_type": "markdown",
      "metadata": {
        "id": "W7dHhPnvcAmA"
      },
      "source": [
        "# preview data"
      ]
    },
    {
      "cell_type": "code",
      "metadata": {
        "id": "E3yGCeQkcDd-",
        "colab": {
          "base_uri": "https://localhost:8080/",
          "height": 197
        },
        "outputId": "a478b190-320a-486e-b183-1929896962ab"
      },
      "source": [
        "# preview data\n",
        "\n",
        "df_25th_nassau.head()\n",
        "df_25th_baltimore.head()\n",
        "\n",
        "\n",
        "\n"
      ],
      "execution_count": null,
      "outputs": [
        {
          "output_type": "execute_result",
          "data": {
            "text/html": [
              "<div>\n",
              "<style scoped>\n",
              "    .dataframe tbody tr th:only-of-type {\n",
              "        vertical-align: middle;\n",
              "    }\n",
              "\n",
              "    .dataframe tbody tr th {\n",
              "        vertical-align: top;\n",
              "    }\n",
              "\n",
              "    .dataframe thead th {\n",
              "        text-align: right;\n",
              "    }\n",
              "</style>\n",
              "<table border=\"1\" class=\"dataframe\">\n",
              "  <thead>\n",
              "    <tr style=\"text-align: right;\">\n",
              "      <th></th>\n",
              "      <th>tract</th>\n",
              "      <th>Name</th>\n",
              "      <th>Household_Income_rP_gP_p25</th>\n",
              "    </tr>\n",
              "  </thead>\n",
              "  <tbody>\n",
              "    <tr>\n",
              "      <th>0</th>\n",
              "      <td>24005403803</td>\n",
              "      <td>Pikesville, MD</td>\n",
              "      <td>69429.0</td>\n",
              "    </tr>\n",
              "    <tr>\n",
              "      <th>1</th>\n",
              "      <td>24005491000</td>\n",
              "      <td>Baltimore, MD</td>\n",
              "      <td>61635.0</td>\n",
              "    </tr>\n",
              "    <tr>\n",
              "      <th>2</th>\n",
              "      <td>24005411309</td>\n",
              "      <td>Perry Hall, MD</td>\n",
              "      <td>54068.0</td>\n",
              "    </tr>\n",
              "    <tr>\n",
              "      <th>3</th>\n",
              "      <td>24005403601</td>\n",
              "      <td>Baltimore, MD</td>\n",
              "      <td>53687.0</td>\n",
              "    </tr>\n",
              "    <tr>\n",
              "      <th>4</th>\n",
              "      <td>24005403500</td>\n",
              "      <td>Pikesville, MD</td>\n",
              "      <td>51834.0</td>\n",
              "    </tr>\n",
              "  </tbody>\n",
              "</table>\n",
              "</div>"
            ],
            "text/plain": [
              "         tract            Name  Household_Income_rP_gP_p25\n",
              "0  24005403803  Pikesville, MD                     69429.0\n",
              "1  24005491000   Baltimore, MD                     61635.0\n",
              "2  24005411309  Perry Hall, MD                     54068.0\n",
              "3  24005403601   Baltimore, MD                     53687.0\n",
              "4  24005403500  Pikesville, MD                     51834.0"
            ]
          },
          "metadata": {
            "tags": []
          },
          "execution_count": 73
        }
      ]
    },
    {
      "cell_type": "code",
      "metadata": {
        "id": "yncotwna1mYW"
      },
      "source": [
        ""
      ],
      "execution_count": null,
      "outputs": []
    },
    {
      "cell_type": "code",
      "metadata": {
        "id": "zdukVBoZccjd",
        "colab": {
          "base_uri": "https://localhost:8080/"
        },
        "outputId": "e9869baf-25ab-4685-a823-d0672af2e29b"
      },
      "source": [
        "df_25th_baltimore.columns\n"
      ],
      "execution_count": null,
      "outputs": [
        {
          "output_type": "execute_result",
          "data": {
            "text/plain": [
              "Index(['tract', 'Name', 'Household_Income_rP_gP_p25'], dtype='object')"
            ]
          },
          "metadata": {
            "tags": []
          },
          "execution_count": 74
        }
      ]
    },
    {
      "cell_type": "code",
      "metadata": {
        "id": "DNXeKRKPuKd-",
        "colab": {
          "base_uri": "https://localhost:8080/"
        },
        "outputId": "d772c6af-2c0b-42ec-ddc6-1a98e567c66c"
      },
      "source": [
        "df_25th_baltimore[\"Name\"].unique()\n"
      ],
      "execution_count": null,
      "outputs": [
        {
          "output_type": "execute_result",
          "data": {
            "text/plain": [
              "array(['Pikesville, MD', 'Baltimore, MD', 'Perry Hall, MD',\n",
              "       'Catonsville, MD', 'Evergreen, Baltimore, MD', 'Ellicott City, MD',\n",
              "       'Towson, MD', 'Parkville, MD', 'Mount Washington, Baltimore, MD',\n",
              "       'Nottingham, MD', 'Fells Point, Baltimore, MD', 'Owings Mills, MD',\n",
              "       'Taylor Village, Ellicott City, MD', 'Riverside, Baltimore, MD',\n",
              "       'Relay, Halethorpe, MD', 'West Elkridge, Elkridge, MD',\n",
              "       'Rosedale, MD', 'Homeland, Baltimore, MD', 'Linthicum Heights, MD',\n",
              "       'North Harford Road, Baltimore, MD', 'Hanover, MD', 'Essex, MD',\n",
              "       'Normandy, Ellicott City, MD', 'Halethorpe, MD', 'Elkridge, MD',\n",
              "       'Cheswolde, Baltimore, MD', 'Dundalk, MD',\n",
              "       'Lochearn, Pikesville, MD', 'Severn, MD', 'Glen Burnie, MD',\n",
              "       'Kendall Ridge, Columbia, MD', 'Canton, Baltimore, MD',\n",
              "       'Pasadena, MD', 'Edgemere, MD', 'Middle River, MD',\n",
              "       'White Marsh, MD', 'Woodring, Baltimore, MD',\n",
              "       'Windsor Mill, Milford Mill, MD', 'South Gate, Glen Burnie, MD',\n",
              "       'Cross Country, Baltimore, MD', 'Waltherson, Baltimore, MD',\n",
              "       'Riviera Beach, MD', 'Windsor Mill, Baltimore, MD',\n",
              "       'Violetville, Baltimore, MD', 'Savage, Jessup, MD',\n",
              "       'Lake Walker, Baltimore, MD', 'Randallstown, MD',\n",
              "       'Waterloo, Elkridge, MD', 'Columbia, MD',\n",
              "       'Chestnut Hill Cove, Riviera Beach, MD',\n",
              "       'Gwynn Oak, Pikesville, MD', 'Glen, Baltimore, MD',\n",
              "       'Joseph Lee, Baltimore, MD', 'Brooklyn Park, MD',\n",
              "       'Fallstaff, Baltimore, MD', 'Fifteenth Street, Baltimore, MD',\n",
              "       'Roland Park, Baltimore, MD', 'Hampden, Baltimore, MD',\n",
              "       'Woodlawn, MD', 'Glenham-Belford, Baltimore, MD',\n",
              "       'Sparrows Point, MD', 'Radnor - Winston, Baltimore, MD',\n",
              "       'Cold Springs, Baltimore, MD', 'Locust Point, Baltimore, MD',\n",
              "       'Tuscany - Canterbury, Baltimore, MD', 'Woodberry, Baltimore, MD',\n",
              "       'Upper Fells Point, Baltimore, MD', 'Lauraville, Baltimore, MD',\n",
              "       'South Baltimore, Baltimore, MD', 'Morrell Park, Baltimore, MD',\n",
              "       'Harford - Echodale - Perring Parkway, Baltimore, MD',\n",
              "       'Gwynn Oak, Baltimore, MD',\n",
              "       'Lansdowne - Baltimore Highlands, Lansdowne, MD',\n",
              "       'Bolton Hill, Baltimore, MD', 'Baltimore Highlands, Baltimore, MD',\n",
              "       'Ednor Gardens - Lakeside, Baltimore, MD',\n",
              "       'Ramblewood, Baltimore, MD', 'Westgate, Baltimore, MD',\n",
              "       'Loch Raven, Baltimore, MD', 'Downtown, Baltimore, MD',\n",
              "       'Lansdowne - Baltimore Highlands, Halethorpe, MD',\n",
              "       'Gwynn Oak, Woodlawn, MD', 'Gwynn Oak, Lochearn, MD',\n",
              "       'Cedmont, Baltimore, MD', 'Irvington, Baltimore, MD',\n",
              "       'Riverside Park, Baltimore, MD',\n",
              "       'Medford - Broening, Baltimore, MD', 'Brooklyn, Baltimore, MD',\n",
              "       'Baltimore County, MD', 'East Arlington, Baltimore, MD',\n",
              "       'Hillen, Baltimore, MD', 'Arcadia, Baltimore, MD',\n",
              "       'Belair - Edison, Baltimore, MD', 'Mid-Govans, Baltimore, MD',\n",
              "       'Armistead Gardens, Baltimore, MD', 'Idlewood, Baltimore, MD',\n",
              "       'New Northwood, Baltimore, MD', 'Mid-Charles, Baltimore, MD',\n",
              "       'Walbrook, Baltimore, MD', 'Patterson Park, Baltimore, MD',\n",
              "       'Beechfield, Baltimore, MD', 'Hanlon Longwood, Baltimore, MD',\n",
              "       'Burleith-Leighton, Baltimore, MD', 'Perring Loch, Baltimore, MD',\n",
              "       'Remington, Baltimore, MD', 'Rognel Heights, Baltimore, MD',\n",
              "       'Pigtown, Baltimore, MD', 'Medfield, Baltimore, MD',\n",
              "       'Frankford, Baltimore, MD', 'West Forest Park, Baltimore, MD',\n",
              "       'Parkside, Baltimore, MD', 'Woodbrook, Baltimore, MD',\n",
              "       'Allendale, Baltimore, MD', 'Garwyn Oaks, Baltimore, MD',\n",
              "       'Better Waverly, Baltimore, MD', 'Yale Heights, Baltimore, MD',\n",
              "       'Windsor Hills, Baltimore, MD', 'Lakeland, Baltimore, MD',\n",
              "       'Darley Park, Baltimore, MD', 'Winston - Govans, Baltimore, MD',\n",
              "       'Little Italy, Baltimore, MD', 'Dorchester, Baltimore, MD',\n",
              "       \"Saint Joseph's, Baltimore, MD\", 'Mosher, Baltimore, MD',\n",
              "       'Hollins Market, Baltimore, MD',\n",
              "       'Reisterstown Station, Baltimore, MD',\n",
              "       'Coppin Heights, Baltimore, MD', 'Old Goucher, Baltimore, MD',\n",
              "       'Edmondson, Baltimore, MD', 'Central Park Heights, Baltimore, MD',\n",
              "       'Arlington, Baltimore, MD', 'Park Circle, Baltimore, MD',\n",
              "       'Cherry Hill, Baltimore, MD', 'Cedonia, Baltimore, MD',\n",
              "       'Barclay, Baltimore, MD', 'Bridgeview-Greenlawn, Baltimore, MD',\n",
              "       'Lexington, Baltimore, MD', 'Poppleton, Baltimore, MD',\n",
              "       'Curtis Bay, Baltimore, MD', 'Greenmount West, Baltimore, MD',\n",
              "       'Rosemont, Baltimore, MD',\n",
              "       'Coldstream - Homestead - Montebello, Baltimore, MD',\n",
              "       'Sandtown-Winchester, Baltimore, MD', 'Harwood, Baltimore, MD',\n",
              "       'Langston Hughes, Baltimore, MD', 'Edgecomb, Baltimore, MD',\n",
              "       'Reservoir Hill, Baltimore, MD', 'Berea, Baltimore, MD',\n",
              "       'Broadway East, Baltimore, MD', 'Harlem Park, Baltimore, MD',\n",
              "       \"O'Donnell Heights, Baltimore, MD\", 'Mount Clare, Baltimore, MD',\n",
              "       'Perkins Homes, Baltimore, MD', 'Pratt Monroe, Baltimore, MD',\n",
              "       'Butchers Hill, Baltimore, MD', 'Midtown Edmondson, Baltimore, MD',\n",
              "       'McCulloh Homes, Baltimore, MD', 'Upton, Baltimore, MD',\n",
              "       'Bentalou-Smallwood, Baltimore, MD',\n",
              "       'NW Community Action, Baltimore, MD',\n",
              "       'Claremont - Freedom, Baltimore, MD', 'Penn North, Baltimore, MD',\n",
              "       'Mondawmin, Baltimore, MD', 'Mill Hill, Baltimore, MD',\n",
              "       'East Baltimore Midway, Baltimore, MD', 'Oliver, Baltimore, MD',\n",
              "       'Madison - Eastend, Baltimore, MD', 'Gay Street, Baltimore, MD',\n",
              "       'Westport, Baltimore, MD', 'Shipley Hill, Baltimore, MD',\n",
              "       'Pleasant View Gardens, Baltimore, MD',\n",
              "       'Druid Heights, Baltimore, MD', 'Franklin Square, Baltimore, MD',\n",
              "       'Milton - Montford, Baltimore, MD',\n",
              "       'Johnson Square, Baltimore, MD', 'Penn - Fallsway, Baltimore, MD',\n",
              "       'Cross Keys, Baltimore, MD'], dtype=object)"
            ]
          },
          "metadata": {
            "tags": []
          },
          "execution_count": 75
        }
      ]
    },
    {
      "cell_type": "code",
      "metadata": {
        "id": "bz5Ql4h0sVg9",
        "colab": {
          "base_uri": "https://localhost:8080/"
        },
        "outputId": "329078f5-2664-4355-aefa-1655a0d74e5a"
      },
      "source": [
        "df_25th_baltimore['Name'].nunique()"
      ],
      "execution_count": null,
      "outputs": [
        {
          "output_type": "execute_result",
          "data": {
            "text/plain": [
              "177"
            ]
          },
          "metadata": {
            "tags": []
          },
          "execution_count": 76
        }
      ]
    },
    {
      "cell_type": "code",
      "metadata": {
        "colab": {
          "base_uri": "https://localhost:8080/",
          "height": 197
        },
        "id": "VCw-bB_t3VjF",
        "outputId": "dd1d8eb7-f3bd-4af6-de0d-3871760f395e"
      },
      "source": [
        "df_25th_baltimore.head()\n"
      ],
      "execution_count": null,
      "outputs": [
        {
          "output_type": "execute_result",
          "data": {
            "text/html": [
              "<div>\n",
              "<style scoped>\n",
              "    .dataframe tbody tr th:only-of-type {\n",
              "        vertical-align: middle;\n",
              "    }\n",
              "\n",
              "    .dataframe tbody tr th {\n",
              "        vertical-align: top;\n",
              "    }\n",
              "\n",
              "    .dataframe thead th {\n",
              "        text-align: right;\n",
              "    }\n",
              "</style>\n",
              "<table border=\"1\" class=\"dataframe\">\n",
              "  <thead>\n",
              "    <tr style=\"text-align: right;\">\n",
              "      <th></th>\n",
              "      <th>tract</th>\n",
              "      <th>Name</th>\n",
              "      <th>Household_Income_rP_gP_p25</th>\n",
              "    </tr>\n",
              "  </thead>\n",
              "  <tbody>\n",
              "    <tr>\n",
              "      <th>0</th>\n",
              "      <td>24005403803</td>\n",
              "      <td>Pikesville, MD</td>\n",
              "      <td>69429.0</td>\n",
              "    </tr>\n",
              "    <tr>\n",
              "      <th>1</th>\n",
              "      <td>24005491000</td>\n",
              "      <td>Baltimore, MD</td>\n",
              "      <td>61635.0</td>\n",
              "    </tr>\n",
              "    <tr>\n",
              "      <th>2</th>\n",
              "      <td>24005411309</td>\n",
              "      <td>Perry Hall, MD</td>\n",
              "      <td>54068.0</td>\n",
              "    </tr>\n",
              "    <tr>\n",
              "      <th>3</th>\n",
              "      <td>24005403601</td>\n",
              "      <td>Baltimore, MD</td>\n",
              "      <td>53687.0</td>\n",
              "    </tr>\n",
              "    <tr>\n",
              "      <th>4</th>\n",
              "      <td>24005403500</td>\n",
              "      <td>Pikesville, MD</td>\n",
              "      <td>51834.0</td>\n",
              "    </tr>\n",
              "  </tbody>\n",
              "</table>\n",
              "</div>"
            ],
            "text/plain": [
              "         tract            Name  Household_Income_rP_gP_p25\n",
              "0  24005403803  Pikesville, MD                     69429.0\n",
              "1  24005491000   Baltimore, MD                     61635.0\n",
              "2  24005411309  Perry Hall, MD                     54068.0\n",
              "3  24005403601   Baltimore, MD                     53687.0\n",
              "4  24005403500  Pikesville, MD                     51834.0"
            ]
          },
          "metadata": {
            "tags": []
          },
          "execution_count": 77
        }
      ]
    },
    {
      "cell_type": "code",
      "metadata": {
        "id": "Ir0XmRmb10LJ"
      },
      "source": [
        ""
      ],
      "execution_count": null,
      "outputs": []
    },
    {
      "cell_type": "code",
      "metadata": {
        "colab": {
          "base_uri": "https://localhost:8080/",
          "height": 287
        },
        "id": "c79lC22G2bZH",
        "outputId": "df1e62f2-8a87-43c9-ed9a-a9380f9787d9"
      },
      "source": [
        "df_25th_baltimore.describe()\n"
      ],
      "execution_count": null,
      "outputs": [
        {
          "output_type": "execute_result",
          "data": {
            "text/html": [
              "<div>\n",
              "<style scoped>\n",
              "    .dataframe tbody tr th:only-of-type {\n",
              "        vertical-align: middle;\n",
              "    }\n",
              "\n",
              "    .dataframe tbody tr th {\n",
              "        vertical-align: top;\n",
              "    }\n",
              "\n",
              "    .dataframe thead th {\n",
              "        text-align: right;\n",
              "    }\n",
              "</style>\n",
              "<table border=\"1\" class=\"dataframe\">\n",
              "  <thead>\n",
              "    <tr style=\"text-align: right;\">\n",
              "      <th></th>\n",
              "      <th>tract</th>\n",
              "      <th>Household_Income_rP_gP_p25</th>\n",
              "    </tr>\n",
              "  </thead>\n",
              "  <tbody>\n",
              "    <tr>\n",
              "      <th>count</th>\n",
              "      <td>3.990000e+02</td>\n",
              "      <td>393.000000</td>\n",
              "    </tr>\n",
              "    <tr>\n",
              "      <th>mean</th>\n",
              "      <td>2.425916e+10</td>\n",
              "      <td>28929.610687</td>\n",
              "    </tr>\n",
              "    <tr>\n",
              "      <th>std</th>\n",
              "      <td>2.520080e+08</td>\n",
              "      <td>8417.775684</td>\n",
              "    </tr>\n",
              "    <tr>\n",
              "      <th>min</th>\n",
              "      <td>2.400373e+10</td>\n",
              "      <td>16364.000000</td>\n",
              "    </tr>\n",
              "    <tr>\n",
              "      <th>25%</th>\n",
              "      <td>2.400542e+10</td>\n",
              "      <td>22391.000000</td>\n",
              "    </tr>\n",
              "    <tr>\n",
              "      <th>50%</th>\n",
              "      <td>2.451001e+10</td>\n",
              "      <td>27473.000000</td>\n",
              "    </tr>\n",
              "    <tr>\n",
              "      <th>75%</th>\n",
              "      <td>2.451020e+10</td>\n",
              "      <td>33279.000000</td>\n",
              "    </tr>\n",
              "    <tr>\n",
              "      <th>max</th>\n",
              "      <td>2.451028e+10</td>\n",
              "      <td>69429.000000</td>\n",
              "    </tr>\n",
              "  </tbody>\n",
              "</table>\n",
              "</div>"
            ],
            "text/plain": [
              "              tract  Household_Income_rP_gP_p25\n",
              "count  3.990000e+02                  393.000000\n",
              "mean   2.425916e+10                28929.610687\n",
              "std    2.520080e+08                 8417.775684\n",
              "min    2.400373e+10                16364.000000\n",
              "25%    2.400542e+10                22391.000000\n",
              "50%    2.451001e+10                27473.000000\n",
              "75%    2.451020e+10                33279.000000\n",
              "max    2.451028e+10                69429.000000"
            ]
          },
          "metadata": {
            "tags": []
          },
          "execution_count": 78
        }
      ]
    },
    {
      "cell_type": "code",
      "metadata": {
        "id": "IKNnA_lGtApJ",
        "colab": {
          "base_uri": "https://localhost:8080/"
        },
        "outputId": "489c7807-9f29-4418-ba69-e9d548ec17f2"
      },
      "source": [
        "df_25th_baltimore.info()\n"
      ],
      "execution_count": null,
      "outputs": [
        {
          "output_type": "stream",
          "text": [
            "<class 'pandas.core.frame.DataFrame'>\n",
            "RangeIndex: 399 entries, 0 to 398\n",
            "Data columns (total 3 columns):\n",
            " #   Column                      Non-Null Count  Dtype  \n",
            "---  ------                      --------------  -----  \n",
            " 0   tract                       399 non-null    int64  \n",
            " 1   Name                        399 non-null    object \n",
            " 2   Household_Income_rP_gP_p25  393 non-null    float64\n",
            "dtypes: float64(1), int64(1), object(1)\n",
            "memory usage: 9.5+ KB\n"
          ],
          "name": "stdout"
        }
      ]
    },
    {
      "cell_type": "code",
      "metadata": {
        "id": "U5FXrex9tHV-",
        "colab": {
          "base_uri": "https://localhost:8080/",
          "height": 287
        },
        "outputId": "9e52ea81-6f95-425a-abf2-d41f3967e8fe"
      },
      "source": [
        "df_25th_baltimore.describe()"
      ],
      "execution_count": null,
      "outputs": [
        {
          "output_type": "execute_result",
          "data": {
            "text/html": [
              "<div>\n",
              "<style scoped>\n",
              "    .dataframe tbody tr th:only-of-type {\n",
              "        vertical-align: middle;\n",
              "    }\n",
              "\n",
              "    .dataframe tbody tr th {\n",
              "        vertical-align: top;\n",
              "    }\n",
              "\n",
              "    .dataframe thead th {\n",
              "        text-align: right;\n",
              "    }\n",
              "</style>\n",
              "<table border=\"1\" class=\"dataframe\">\n",
              "  <thead>\n",
              "    <tr style=\"text-align: right;\">\n",
              "      <th></th>\n",
              "      <th>tract</th>\n",
              "      <th>Household_Income_rP_gP_p25</th>\n",
              "    </tr>\n",
              "  </thead>\n",
              "  <tbody>\n",
              "    <tr>\n",
              "      <th>count</th>\n",
              "      <td>3.990000e+02</td>\n",
              "      <td>393.000000</td>\n",
              "    </tr>\n",
              "    <tr>\n",
              "      <th>mean</th>\n",
              "      <td>2.425916e+10</td>\n",
              "      <td>28929.610687</td>\n",
              "    </tr>\n",
              "    <tr>\n",
              "      <th>std</th>\n",
              "      <td>2.520080e+08</td>\n",
              "      <td>8417.775684</td>\n",
              "    </tr>\n",
              "    <tr>\n",
              "      <th>min</th>\n",
              "      <td>2.400373e+10</td>\n",
              "      <td>16364.000000</td>\n",
              "    </tr>\n",
              "    <tr>\n",
              "      <th>25%</th>\n",
              "      <td>2.400542e+10</td>\n",
              "      <td>22391.000000</td>\n",
              "    </tr>\n",
              "    <tr>\n",
              "      <th>50%</th>\n",
              "      <td>2.451001e+10</td>\n",
              "      <td>27473.000000</td>\n",
              "    </tr>\n",
              "    <tr>\n",
              "      <th>75%</th>\n",
              "      <td>2.451020e+10</td>\n",
              "      <td>33279.000000</td>\n",
              "    </tr>\n",
              "    <tr>\n",
              "      <th>max</th>\n",
              "      <td>2.451028e+10</td>\n",
              "      <td>69429.000000</td>\n",
              "    </tr>\n",
              "  </tbody>\n",
              "</table>\n",
              "</div>"
            ],
            "text/plain": [
              "              tract  Household_Income_rP_gP_p25\n",
              "count  3.990000e+02                  393.000000\n",
              "mean   2.425916e+10                28929.610687\n",
              "std    2.520080e+08                 8417.775684\n",
              "min    2.400373e+10                16364.000000\n",
              "25%    2.400542e+10                22391.000000\n",
              "50%    2.451001e+10                27473.000000\n",
              "75%    2.451020e+10                33279.000000\n",
              "max    2.451028e+10                69429.000000"
            ]
          },
          "metadata": {
            "tags": []
          },
          "execution_count": 80
        }
      ]
    },
    {
      "cell_type": "markdown",
      "metadata": {
        "id": "vyC5RzOCumbb"
      },
      "source": [
        "# Filter data "
      ]
    },
    {
      "cell_type": "code",
      "metadata": {
        "id": "af1ZqcDHtWGd"
      },
      "source": [
        "df_25th_bmore1 = df_25th_baltimore[df_25th_baltimore[\"Name\"] == \"Baltimore, MD\"]\n"
      ],
      "execution_count": null,
      "outputs": []
    },
    {
      "cell_type": "code",
      "metadata": {
        "id": "Xl8RYIE7tYTr",
        "colab": {
          "base_uri": "https://localhost:8080/",
          "height": 197
        },
        "outputId": "44f30347-8a82-41ab-8acd-fd9f463576bc"
      },
      "source": [
        "df_25th_bmore1.head()"
      ],
      "execution_count": null,
      "outputs": [
        {
          "output_type": "execute_result",
          "data": {
            "text/html": [
              "<div>\n",
              "<style scoped>\n",
              "    .dataframe tbody tr th:only-of-type {\n",
              "        vertical-align: middle;\n",
              "    }\n",
              "\n",
              "    .dataframe tbody tr th {\n",
              "        vertical-align: top;\n",
              "    }\n",
              "\n",
              "    .dataframe thead th {\n",
              "        text-align: right;\n",
              "    }\n",
              "</style>\n",
              "<table border=\"1\" class=\"dataframe\">\n",
              "  <thead>\n",
              "    <tr style=\"text-align: right;\">\n",
              "      <th></th>\n",
              "      <th>tract</th>\n",
              "      <th>Name</th>\n",
              "      <th>Household_Income_rP_gP_p25</th>\n",
              "    </tr>\n",
              "  </thead>\n",
              "  <tbody>\n",
              "    <tr>\n",
              "      <th>1</th>\n",
              "      <td>24005491000</td>\n",
              "      <td>Baltimore, MD</td>\n",
              "      <td>61635.0</td>\n",
              "    </tr>\n",
              "    <tr>\n",
              "      <th>3</th>\n",
              "      <td>24005403601</td>\n",
              "      <td>Baltimore, MD</td>\n",
              "      <td>53687.0</td>\n",
              "    </tr>\n",
              "    <tr>\n",
              "      <th>5</th>\n",
              "      <td>24005490601</td>\n",
              "      <td>Baltimore, MD</td>\n",
              "      <td>51258.0</td>\n",
              "    </tr>\n",
              "    <tr>\n",
              "      <th>6</th>\n",
              "      <td>24005490603</td>\n",
              "      <td>Baltimore, MD</td>\n",
              "      <td>51212.0</td>\n",
              "    </tr>\n",
              "    <tr>\n",
              "      <th>7</th>\n",
              "      <td>24005490602</td>\n",
              "      <td>Baltimore, MD</td>\n",
              "      <td>50819.0</td>\n",
              "    </tr>\n",
              "  </tbody>\n",
              "</table>\n",
              "</div>"
            ],
            "text/plain": [
              "         tract           Name  Household_Income_rP_gP_p25\n",
              "1  24005491000  Baltimore, MD                     61635.0\n",
              "3  24005403601  Baltimore, MD                     53687.0\n",
              "5  24005490601  Baltimore, MD                     51258.0\n",
              "6  24005490603  Baltimore, MD                     51212.0\n",
              "7  24005490602  Baltimore, MD                     50819.0"
            ]
          },
          "metadata": {
            "tags": []
          },
          "execution_count": 82
        }
      ]
    },
    {
      "cell_type": "markdown",
      "metadata": {
        "id": "BtA4TdvnHESC"
      },
      "source": [
        ""
      ]
    },
    {
      "cell_type": "code",
      "metadata": {
        "id": "49Ow0IPl4UMn",
        "colab": {
          "base_uri": "https://localhost:8080/",
          "height": 197
        },
        "outputId": "2bca1eef-ebc0-42b0-d888-da523d170ccb"
      },
      "source": [
        "df_25th_bmore1.tail()\n"
      ],
      "execution_count": null,
      "outputs": [
        {
          "output_type": "execute_result",
          "data": {
            "text/html": [
              "<div>\n",
              "<style scoped>\n",
              "    .dataframe tbody tr th:only-of-type {\n",
              "        vertical-align: middle;\n",
              "    }\n",
              "\n",
              "    .dataframe tbody tr th {\n",
              "        vertical-align: top;\n",
              "    }\n",
              "\n",
              "    .dataframe thead th {\n",
              "        text-align: right;\n",
              "    }\n",
              "</style>\n",
              "<table border=\"1\" class=\"dataframe\">\n",
              "  <thead>\n",
              "    <tr style=\"text-align: right;\">\n",
              "      <th></th>\n",
              "      <th>tract</th>\n",
              "      <th>Name</th>\n",
              "      <th>Household_Income_rP_gP_p25</th>\n",
              "    </tr>\n",
              "  </thead>\n",
              "  <tbody>\n",
              "    <tr>\n",
              "      <th>360</th>\n",
              "      <td>24510060400</td>\n",
              "      <td>Baltimore, MD</td>\n",
              "      <td>19360.0</td>\n",
              "    </tr>\n",
              "    <tr>\n",
              "      <th>362</th>\n",
              "      <td>24510271001</td>\n",
              "      <td>Baltimore, MD</td>\n",
              "      <td>19162.0</td>\n",
              "    </tr>\n",
              "    <tr>\n",
              "      <th>367</th>\n",
              "      <td>24510230100</td>\n",
              "      <td>Baltimore, MD</td>\n",
              "      <td>18931.0</td>\n",
              "    </tr>\n",
              "    <tr>\n",
              "      <th>379</th>\n",
              "      <td>24510100200</td>\n",
              "      <td>Baltimore, MD</td>\n",
              "      <td>18460.0</td>\n",
              "    </tr>\n",
              "    <tr>\n",
              "      <th>393</th>\n",
              "      <td>24005492500</td>\n",
              "      <td>Baltimore, MD</td>\n",
              "      <td>NaN</td>\n",
              "    </tr>\n",
              "  </tbody>\n",
              "</table>\n",
              "</div>"
            ],
            "text/plain": [
              "           tract           Name  Household_Income_rP_gP_p25\n",
              "360  24510060400  Baltimore, MD                     19360.0\n",
              "362  24510271001  Baltimore, MD                     19162.0\n",
              "367  24510230100  Baltimore, MD                     18931.0\n",
              "379  24510100200  Baltimore, MD                     18460.0\n",
              "393  24005492500  Baltimore, MD                         NaN"
            ]
          },
          "metadata": {
            "tags": []
          },
          "execution_count": 83
        }
      ]
    },
    {
      "cell_type": "code",
      "metadata": {
        "id": "5vkyOF8KvPYx"
      },
      "source": [
        "df_50th_bmore1=df_50th_baltimore[df_50th_baltimore[\"Name\"] == \"Baltimore, MD\"]\n",
        "df_75th_bmore1=df_75th_baltimore[df_75th_baltimore[\"Name\"] == \"Baltimore, MD\"]\n"
      ],
      "execution_count": null,
      "outputs": []
    },
    {
      "cell_type": "markdown",
      "metadata": {
        "id": "xnUoKs-RNi2J"
      },
      "source": [
        "* Nassau data"
      ]
    },
    {
      "cell_type": "code",
      "metadata": {
        "id": "iHLcLCBgvg_6"
      },
      "source": [
        "df_25th_nas=df_25th_nassau[df_25th_nassau[\"Name\"] == \"Baltimore, MD\"]\n",
        "df_50th_nas=df_50th_nassau[df_50th_nassau[\"Name\"] == \"Baltimore, MD\"]\n",
        "df_75th_nas=df_75th_nassau[df_75th_nassau[\"Name\"] == \"Baltimore, MD\"]"
      ],
      "execution_count": null,
      "outputs": []
    },
    {
      "cell_type": "markdown",
      "metadata": {
        "id": "pDEVvei-u-By"
      },
      "source": [
        "# Merge ___\n"
      ]
    },
    {
      "cell_type": "code",
      "metadata": {
        "id": "NCWkscLGwFbi"
      },
      "source": [
        "#Baltimore City\n",
        "#merge 25th and 50th percentile\n",
        "\n",
        "df_25_50 = pd.merge(df_25th_bmore1, \n",
        "                          df_50th_bmore1[[\"tract\", \"Household_Income_rP_gP_p50\"]], \n",
        "                          how = \"left\", \n",
        "                          on = \"tract\")\n",
        "\n",
        "# merge 25th and 50th with 75th percentile\n",
        "df_25_75 = pd.merge(df_25_50, \n",
        "                          df_75th_bmore1[[\"tract\", \"Household_Income_rP_gP_p75\"]], \n",
        "                          how = \"left\", \n",
        "                          on = \"tract\")"
      ],
      "execution_count": null,
      "outputs": []
    },
    {
      "cell_type": "code",
      "metadata": {
        "id": "Qh9CDWnS4Flp",
        "colab": {
          "base_uri": "https://localhost:8080/",
          "height": 301
        },
        "outputId": "e9a84bc4-e10d-4d24-85c3-13d79dc01728"
      },
      "source": [
        "df_25_75.tail()\n"
      ],
      "execution_count": null,
      "outputs": [
        {
          "output_type": "execute_result",
          "data": {
            "text/html": [
              "<div>\n",
              "<style scoped>\n",
              "    .dataframe tbody tr th:only-of-type {\n",
              "        vertical-align: middle;\n",
              "    }\n",
              "\n",
              "    .dataframe tbody tr th {\n",
              "        vertical-align: top;\n",
              "    }\n",
              "\n",
              "    .dataframe thead th {\n",
              "        text-align: right;\n",
              "    }\n",
              "</style>\n",
              "<table border=\"1\" class=\"dataframe\">\n",
              "  <thead>\n",
              "    <tr style=\"text-align: right;\">\n",
              "      <th></th>\n",
              "      <th>tract</th>\n",
              "      <th>Name</th>\n",
              "      <th>Household_Income_rP_gP_p25</th>\n",
              "      <th>Household_Income_rP_gP_p50</th>\n",
              "      <th>Household_Income_rP_gP_p75</th>\n",
              "    </tr>\n",
              "  </thead>\n",
              "  <tbody>\n",
              "    <tr>\n",
              "      <th>28</th>\n",
              "      <td>24510060400</td>\n",
              "      <td>Baltimore, MD</td>\n",
              "      <td>19360.0</td>\n",
              "      <td>26733.0</td>\n",
              "      <td>33959.0</td>\n",
              "    </tr>\n",
              "    <tr>\n",
              "      <th>29</th>\n",
              "      <td>24510271001</td>\n",
              "      <td>Baltimore, MD</td>\n",
              "      <td>19162.0</td>\n",
              "      <td>23428.0</td>\n",
              "      <td>27539.0</td>\n",
              "    </tr>\n",
              "    <tr>\n",
              "      <th>30</th>\n",
              "      <td>24510230100</td>\n",
              "      <td>Baltimore, MD</td>\n",
              "      <td>18931.0</td>\n",
              "      <td>25815.0</td>\n",
              "      <td>32526.0</td>\n",
              "    </tr>\n",
              "    <tr>\n",
              "      <th>31</th>\n",
              "      <td>24510100200</td>\n",
              "      <td>Baltimore, MD</td>\n",
              "      <td>18460.0</td>\n",
              "      <td>23773.0</td>\n",
              "      <td>28908.0</td>\n",
              "    </tr>\n",
              "    <tr>\n",
              "      <th>32</th>\n",
              "      <td>24005492500</td>\n",
              "      <td>Baltimore, MD</td>\n",
              "      <td>NaN</td>\n",
              "      <td>NaN</td>\n",
              "      <td>NaN</td>\n",
              "    </tr>\n",
              "  </tbody>\n",
              "</table>\n",
              "</div>"
            ],
            "text/plain": [
              "          tract  ... Household_Income_rP_gP_p75\n",
              "28  24510060400  ...                    33959.0\n",
              "29  24510271001  ...                    27539.0\n",
              "30  24510230100  ...                    32526.0\n",
              "31  24510100200  ...                    28908.0\n",
              "32  24005492500  ...                        NaN\n",
              "\n",
              "[5 rows x 5 columns]"
            ]
          },
          "metadata": {
            "tags": []
          },
          "execution_count": 87
        }
      ]
    },
    {
      "cell_type": "code",
      "metadata": {
        "id": "72i_krAwOb0i"
      },
      "source": [
        "# rename x for 2019 and y for 2020 [MAYBE RENAME 25TH, 50TH, ETC]\n",
        "#df_19_20_merge = df_19_20_merge.rename(columns={\"Enrolled Count_x\": \"Enrolled Count 2019\",\n",
        "#                               \"Enrolled Count_y\": \"Enrolled Count 2020\"})"
      ],
      "execution_count": null,
      "outputs": []
    },
    {
      "cell_type": "markdown",
      "metadata": {
        "id": "_f6IuWRkvN8r"
      },
      "source": [
        "# Calculate ___"
      ]
    },
    {
      "cell_type": "code",
      "metadata": {
        "id": "IEQ7E42KumM1"
      },
      "source": [
        ""
      ],
      "execution_count": null,
      "outputs": []
    },
    {
      "cell_type": "markdown",
      "metadata": {
        "id": "21TxXYRdvDWK"
      },
      "source": [
        "# Bar graph of ____"
      ]
    },
    {
      "cell_type": "code",
      "metadata": {
        "id": "L4K0B53WTr4b"
      },
      "source": [
        "# sort values\n",
        "\n",
        "df_25_75 = df_25_75.sort_values(by = \"Household_Income_rP_gP_p50\")"
      ],
      "execution_count": null,
      "outputs": []
    },
    {
      "cell_type": "code",
      "metadata": {
        "id": "y2Qb7k0EvGYW"
      },
      "source": [
        "# create a bar chart of []\n",
        "\n",
        "bar_25th = px.bar(df_25_75,x= \"tract\", y = \"Household_Income_rP_gP_p50\", title = \"Baltimore 25th\")"
      ],
      "execution_count": null,
      "outputs": []
    },
    {
      "cell_type": "code",
      "metadata": {
        "id": "5cJc6tumUar2",
        "colab": {
          "base_uri": "https://localhost:8080/",
          "height": 301
        },
        "outputId": "cfb1ab66-d991-4655-d57c-544ca2434ba0"
      },
      "source": [
        "df_25_75.head()\n"
      ],
      "execution_count": null,
      "outputs": [
        {
          "output_type": "execute_result",
          "data": {
            "text/html": [
              "<div>\n",
              "<style scoped>\n",
              "    .dataframe tbody tr th:only-of-type {\n",
              "        vertical-align: middle;\n",
              "    }\n",
              "\n",
              "    .dataframe tbody tr th {\n",
              "        vertical-align: top;\n",
              "    }\n",
              "\n",
              "    .dataframe thead th {\n",
              "        text-align: right;\n",
              "    }\n",
              "</style>\n",
              "<table border=\"1\" class=\"dataframe\">\n",
              "  <thead>\n",
              "    <tr style=\"text-align: right;\">\n",
              "      <th></th>\n",
              "      <th>tract</th>\n",
              "      <th>Name</th>\n",
              "      <th>Household_Income_rP_gP_p25</th>\n",
              "      <th>Household_Income_rP_gP_p50</th>\n",
              "      <th>Household_Income_rP_gP_p75</th>\n",
              "    </tr>\n",
              "  </thead>\n",
              "  <tbody>\n",
              "    <tr>\n",
              "      <th>29</th>\n",
              "      <td>24510271001</td>\n",
              "      <td>Baltimore, MD</td>\n",
              "      <td>19162.0</td>\n",
              "      <td>23428.0</td>\n",
              "      <td>27539.0</td>\n",
              "    </tr>\n",
              "    <tr>\n",
              "      <th>31</th>\n",
              "      <td>24510100200</td>\n",
              "      <td>Baltimore, MD</td>\n",
              "      <td>18460.0</td>\n",
              "      <td>23773.0</td>\n",
              "      <td>28908.0</td>\n",
              "    </tr>\n",
              "    <tr>\n",
              "      <th>30</th>\n",
              "      <td>24510230100</td>\n",
              "      <td>Baltimore, MD</td>\n",
              "      <td>18931.0</td>\n",
              "      <td>25815.0</td>\n",
              "      <td>32526.0</td>\n",
              "    </tr>\n",
              "    <tr>\n",
              "      <th>28</th>\n",
              "      <td>24510060400</td>\n",
              "      <td>Baltimore, MD</td>\n",
              "      <td>19360.0</td>\n",
              "      <td>26733.0</td>\n",
              "      <td>33959.0</td>\n",
              "    </tr>\n",
              "    <tr>\n",
              "      <th>27</th>\n",
              "      <td>24510200600</td>\n",
              "      <td>Baltimore, MD</td>\n",
              "      <td>19900.0</td>\n",
              "      <td>28482.0</td>\n",
              "      <td>37037.0</td>\n",
              "    </tr>\n",
              "  </tbody>\n",
              "</table>\n",
              "</div>"
            ],
            "text/plain": [
              "          tract  ... Household_Income_rP_gP_p75\n",
              "29  24510271001  ...                    27539.0\n",
              "31  24510100200  ...                    28908.0\n",
              "30  24510230100  ...                    32526.0\n",
              "28  24510060400  ...                    33959.0\n",
              "27  24510200600  ...                    37037.0\n",
              "\n",
              "[5 rows x 5 columns]"
            ]
          },
          "metadata": {
            "tags": []
          },
          "execution_count": 91
        }
      ]
    },
    {
      "cell_type": "code",
      "metadata": {
        "id": "jusNtvuwS64h",
        "colab": {
          "base_uri": "https://localhost:8080/"
        },
        "outputId": "24c426fc-7b17-4555-9c87-1f0f1065e169"
      },
      "source": [
        "bar_25th\n"
      ],
      "execution_count": null,
      "outputs": [
        {
          "output_type": "display_data",
          "data": {
            "text/html": [
              "<html>\n",
              "<head><meta charset=\"utf-8\" /></head>\n",
              "<body>\n",
              "    <div>\n",
              "            <script src=\"https://cdnjs.cloudflare.com/ajax/libs/mathjax/2.7.5/MathJax.js?config=TeX-AMS-MML_SVG\"></script><script type=\"text/javascript\">if (window.MathJax) {MathJax.Hub.Config({SVG: {font: \"STIX-Web\"}});}</script>\n",
              "                <script type=\"text/javascript\">window.PlotlyConfig = {MathJaxConfig: 'local'};</script>\n",
              "        <script src=\"https://cdn.plot.ly/plotly-latest.min.js\"></script>    \n",
              "            <div id=\"19efefbd-8931-48a1-8abb-99d722015d4e\" class=\"plotly-graph-div\" style=\"height:525px; width:100%;\"></div>\n",
              "            <script type=\"text/javascript\">\n",
              "                \n",
              "                    window.PLOTLYENV=window.PLOTLYENV || {};\n",
              "                    \n",
              "                if (document.getElementById(\"19efefbd-8931-48a1-8abb-99d722015d4e\")) {\n",
              "                    Plotly.newPlot(\n",
              "                        '19efefbd-8931-48a1-8abb-99d722015d4e',\n",
              "                        [{\"alignmentgroup\": \"True\", \"hoverlabel\": {\"namelength\": 0}, \"hovertemplate\": \"tract=%{x}<br>Household_Income_rP_gP_p50=%{y}\", \"legendgroup\": \"\", \"marker\": {\"color\": \"#636efa\"}, \"name\": \"\", \"offsetgroup\": \"\", \"orientation\": \"v\", \"showlegend\": false, \"textposition\": \"auto\", \"type\": \"bar\", \"x\": [24510271001, 24510100200, 24510230100, 24510060400, 24510200600, 24510060200, 24510070100, 24510280401, 24005452300, 24510260900, 24005421101, 24003750102, 24005441000, 24510272003, 24003750203, 24510220100, 24510120201, 24005430900, 24005420600, 24005491300, 24005440400, 24005400702, 24005420500, 24510120202, 24005440100, 24005491100, 24005403602, 24005490603, 24005490602, 24005490601, 24005403601, 24005491000, 24005492500], \"xaxis\": \"x\", \"y\": [23428.0, 23773.0, 25815.0, 26733.0, 28482.0, 30135.0, 30532.0, 32009.0, 33609.0, 34603.0, 35871.0, 36076.0, 36133.0, 36702.0, 36760.0, 38226.0, 39317.0, 41953.0, 42192.0, 42623.0, 43306.0, 43428.0, 44880.0, 47462.0, 47488.0, 52549.0, 54218.0, 55883.0, 56797.0, 57371.0, 62646.0, 64766.0, null], \"yaxis\": \"y\"}],\n",
              "                        {\"barmode\": \"relative\", \"legend\": {\"tracegroupgap\": 0}, \"template\": {\"data\": {\"bar\": [{\"error_x\": {\"color\": \"#2a3f5f\"}, \"error_y\": {\"color\": \"#2a3f5f\"}, \"marker\": {\"line\": {\"color\": \"#E5ECF6\", \"width\": 0.5}}, \"type\": \"bar\"}], \"barpolar\": [{\"marker\": {\"line\": {\"color\": \"#E5ECF6\", \"width\": 0.5}}, \"type\": \"barpolar\"}], \"carpet\": [{\"aaxis\": {\"endlinecolor\": \"#2a3f5f\", \"gridcolor\": \"white\", \"linecolor\": \"white\", \"minorgridcolor\": \"white\", \"startlinecolor\": \"#2a3f5f\"}, \"baxis\": {\"endlinecolor\": \"#2a3f5f\", \"gridcolor\": \"white\", \"linecolor\": \"white\", \"minorgridcolor\": \"white\", \"startlinecolor\": \"#2a3f5f\"}, \"type\": \"carpet\"}], \"choropleth\": [{\"colorbar\": {\"outlinewidth\": 0, \"ticks\": \"\"}, \"type\": \"choropleth\"}], \"contour\": [{\"colorbar\": {\"outlinewidth\": 0, \"ticks\": \"\"}, \"colorscale\": [[0.0, \"#0d0887\"], [0.1111111111111111, \"#46039f\"], [0.2222222222222222, \"#7201a8\"], [0.3333333333333333, \"#9c179e\"], [0.4444444444444444, \"#bd3786\"], [0.5555555555555556, \"#d8576b\"], [0.6666666666666666, \"#ed7953\"], [0.7777777777777778, \"#fb9f3a\"], [0.8888888888888888, \"#fdca26\"], [1.0, \"#f0f921\"]], \"type\": \"contour\"}], \"contourcarpet\": [{\"colorbar\": {\"outlinewidth\": 0, \"ticks\": \"\"}, \"type\": \"contourcarpet\"}], \"heatmap\": [{\"colorbar\": {\"outlinewidth\": 0, \"ticks\": \"\"}, \"colorscale\": [[0.0, \"#0d0887\"], [0.1111111111111111, \"#46039f\"], [0.2222222222222222, \"#7201a8\"], [0.3333333333333333, \"#9c179e\"], [0.4444444444444444, \"#bd3786\"], [0.5555555555555556, \"#d8576b\"], [0.6666666666666666, \"#ed7953\"], [0.7777777777777778, \"#fb9f3a\"], [0.8888888888888888, \"#fdca26\"], [1.0, \"#f0f921\"]], \"type\": \"heatmap\"}], \"heatmapgl\": [{\"colorbar\": {\"outlinewidth\": 0, \"ticks\": \"\"}, \"colorscale\": [[0.0, \"#0d0887\"], [0.1111111111111111, \"#46039f\"], [0.2222222222222222, \"#7201a8\"], [0.3333333333333333, \"#9c179e\"], [0.4444444444444444, \"#bd3786\"], [0.5555555555555556, \"#d8576b\"], [0.6666666666666666, \"#ed7953\"], [0.7777777777777778, \"#fb9f3a\"], [0.8888888888888888, \"#fdca26\"], [1.0, \"#f0f921\"]], \"type\": \"heatmapgl\"}], \"histogram\": [{\"marker\": {\"colorbar\": {\"outlinewidth\": 0, \"ticks\": \"\"}}, \"type\": \"histogram\"}], \"histogram2d\": [{\"colorbar\": {\"outlinewidth\": 0, \"ticks\": \"\"}, \"colorscale\": [[0.0, \"#0d0887\"], [0.1111111111111111, \"#46039f\"], [0.2222222222222222, \"#7201a8\"], [0.3333333333333333, \"#9c179e\"], [0.4444444444444444, \"#bd3786\"], [0.5555555555555556, \"#d8576b\"], [0.6666666666666666, \"#ed7953\"], [0.7777777777777778, \"#fb9f3a\"], [0.8888888888888888, \"#fdca26\"], [1.0, \"#f0f921\"]], \"type\": \"histogram2d\"}], \"histogram2dcontour\": [{\"colorbar\": {\"outlinewidth\": 0, \"ticks\": \"\"}, \"colorscale\": [[0.0, \"#0d0887\"], [0.1111111111111111, \"#46039f\"], [0.2222222222222222, \"#7201a8\"], [0.3333333333333333, \"#9c179e\"], [0.4444444444444444, \"#bd3786\"], [0.5555555555555556, \"#d8576b\"], [0.6666666666666666, \"#ed7953\"], [0.7777777777777778, \"#fb9f3a\"], [0.8888888888888888, \"#fdca26\"], [1.0, \"#f0f921\"]], \"type\": \"histogram2dcontour\"}], \"mesh3d\": [{\"colorbar\": {\"outlinewidth\": 0, \"ticks\": \"\"}, \"type\": \"mesh3d\"}], \"parcoords\": [{\"line\": {\"colorbar\": {\"outlinewidth\": 0, \"ticks\": \"\"}}, \"type\": \"parcoords\"}], \"pie\": [{\"automargin\": true, \"type\": \"pie\"}], \"scatter\": [{\"marker\": {\"colorbar\": {\"outlinewidth\": 0, \"ticks\": \"\"}}, \"type\": \"scatter\"}], \"scatter3d\": [{\"line\": {\"colorbar\": {\"outlinewidth\": 0, \"ticks\": \"\"}}, \"marker\": {\"colorbar\": {\"outlinewidth\": 0, \"ticks\": \"\"}}, \"type\": \"scatter3d\"}], \"scattercarpet\": [{\"marker\": {\"colorbar\": {\"outlinewidth\": 0, \"ticks\": \"\"}}, \"type\": \"scattercarpet\"}], \"scattergeo\": [{\"marker\": {\"colorbar\": {\"outlinewidth\": 0, \"ticks\": \"\"}}, \"type\": \"scattergeo\"}], \"scattergl\": [{\"marker\": {\"colorbar\": {\"outlinewidth\": 0, \"ticks\": \"\"}}, \"type\": \"scattergl\"}], \"scattermapbox\": [{\"marker\": {\"colorbar\": {\"outlinewidth\": 0, \"ticks\": \"\"}}, \"type\": \"scattermapbox\"}], \"scatterpolar\": [{\"marker\": {\"colorbar\": {\"outlinewidth\": 0, \"ticks\": \"\"}}, \"type\": \"scatterpolar\"}], \"scatterpolargl\": [{\"marker\": {\"colorbar\": {\"outlinewidth\": 0, \"ticks\": \"\"}}, \"type\": \"scatterpolargl\"}], \"scatterternary\": [{\"marker\": {\"colorbar\": {\"outlinewidth\": 0, \"ticks\": \"\"}}, \"type\": \"scatterternary\"}], \"surface\": [{\"colorbar\": {\"outlinewidth\": 0, \"ticks\": \"\"}, \"colorscale\": [[0.0, \"#0d0887\"], [0.1111111111111111, \"#46039f\"], [0.2222222222222222, \"#7201a8\"], [0.3333333333333333, \"#9c179e\"], [0.4444444444444444, \"#bd3786\"], [0.5555555555555556, \"#d8576b\"], [0.6666666666666666, \"#ed7953\"], [0.7777777777777778, \"#fb9f3a\"], [0.8888888888888888, \"#fdca26\"], [1.0, \"#f0f921\"]], \"type\": \"surface\"}], \"table\": [{\"cells\": {\"fill\": {\"color\": \"#EBF0F8\"}, \"line\": {\"color\": \"white\"}}, \"header\": {\"fill\": {\"color\": \"#C8D4E3\"}, \"line\": {\"color\": \"white\"}}, \"type\": \"table\"}]}, \"layout\": {\"annotationdefaults\": {\"arrowcolor\": \"#2a3f5f\", \"arrowhead\": 0, \"arrowwidth\": 1}, \"coloraxis\": {\"colorbar\": {\"outlinewidth\": 0, \"ticks\": \"\"}}, \"colorscale\": {\"diverging\": [[0, \"#8e0152\"], [0.1, \"#c51b7d\"], [0.2, \"#de77ae\"], [0.3, \"#f1b6da\"], [0.4, \"#fde0ef\"], [0.5, \"#f7f7f7\"], [0.6, \"#e6f5d0\"], [0.7, \"#b8e186\"], [0.8, \"#7fbc41\"], [0.9, \"#4d9221\"], [1, \"#276419\"]], \"sequential\": [[0.0, \"#0d0887\"], [0.1111111111111111, \"#46039f\"], [0.2222222222222222, \"#7201a8\"], [0.3333333333333333, \"#9c179e\"], [0.4444444444444444, \"#bd3786\"], [0.5555555555555556, \"#d8576b\"], [0.6666666666666666, \"#ed7953\"], [0.7777777777777778, \"#fb9f3a\"], [0.8888888888888888, \"#fdca26\"], [1.0, \"#f0f921\"]], \"sequentialminus\": [[0.0, \"#0d0887\"], [0.1111111111111111, \"#46039f\"], [0.2222222222222222, \"#7201a8\"], [0.3333333333333333, \"#9c179e\"], [0.4444444444444444, \"#bd3786\"], [0.5555555555555556, \"#d8576b\"], [0.6666666666666666, \"#ed7953\"], [0.7777777777777778, \"#fb9f3a\"], [0.8888888888888888, \"#fdca26\"], [1.0, \"#f0f921\"]]}, \"colorway\": [\"#636efa\", \"#EF553B\", \"#00cc96\", \"#ab63fa\", \"#FFA15A\", \"#19d3f3\", \"#FF6692\", \"#B6E880\", \"#FF97FF\", \"#FECB52\"], \"font\": {\"color\": \"#2a3f5f\"}, \"geo\": {\"bgcolor\": \"white\", \"lakecolor\": \"white\", \"landcolor\": \"#E5ECF6\", \"showlakes\": true, \"showland\": true, \"subunitcolor\": \"white\"}, \"hoverlabel\": {\"align\": \"left\"}, \"hovermode\": \"closest\", \"mapbox\": {\"style\": \"light\"}, \"paper_bgcolor\": \"white\", \"plot_bgcolor\": \"#E5ECF6\", \"polar\": {\"angularaxis\": {\"gridcolor\": \"white\", \"linecolor\": \"white\", \"ticks\": \"\"}, \"bgcolor\": \"#E5ECF6\", \"radialaxis\": {\"gridcolor\": \"white\", \"linecolor\": \"white\", \"ticks\": \"\"}}, \"scene\": {\"xaxis\": {\"backgroundcolor\": \"#E5ECF6\", \"gridcolor\": \"white\", \"gridwidth\": 2, \"linecolor\": \"white\", \"showbackground\": true, \"ticks\": \"\", \"zerolinecolor\": \"white\"}, \"yaxis\": {\"backgroundcolor\": \"#E5ECF6\", \"gridcolor\": \"white\", \"gridwidth\": 2, \"linecolor\": \"white\", \"showbackground\": true, \"ticks\": \"\", \"zerolinecolor\": \"white\"}, \"zaxis\": {\"backgroundcolor\": \"#E5ECF6\", \"gridcolor\": \"white\", \"gridwidth\": 2, \"linecolor\": \"white\", \"showbackground\": true, \"ticks\": \"\", \"zerolinecolor\": \"white\"}}, \"shapedefaults\": {\"line\": {\"color\": \"#2a3f5f\"}}, \"ternary\": {\"aaxis\": {\"gridcolor\": \"white\", \"linecolor\": \"white\", \"ticks\": \"\"}, \"baxis\": {\"gridcolor\": \"white\", \"linecolor\": \"white\", \"ticks\": \"\"}, \"bgcolor\": \"#E5ECF6\", \"caxis\": {\"gridcolor\": \"white\", \"linecolor\": \"white\", \"ticks\": \"\"}}, \"title\": {\"x\": 0.05}, \"xaxis\": {\"automargin\": true, \"gridcolor\": \"white\", \"linecolor\": \"white\", \"ticks\": \"\", \"title\": {\"standoff\": 15}, \"zerolinecolor\": \"white\", \"zerolinewidth\": 2}, \"yaxis\": {\"automargin\": true, \"gridcolor\": \"white\", \"linecolor\": \"white\", \"ticks\": \"\", \"title\": {\"standoff\": 15}, \"zerolinecolor\": \"white\", \"zerolinewidth\": 2}}}, \"title\": {\"text\": \"Baltimore 25th\"}, \"xaxis\": {\"anchor\": \"y\", \"domain\": [0.0, 1.0], \"title\": {\"text\": \"tract\"}}, \"yaxis\": {\"anchor\": \"x\", \"domain\": [0.0, 1.0], \"title\": {\"text\": \"Household_Income_rP_gP_p50\"}}},\n",
              "                        {\"responsive\": true}\n",
              "                    ).then(function(){\n",
              "                            \n",
              "var gd = document.getElementById('19efefbd-8931-48a1-8abb-99d722015d4e');\n",
              "var x = new MutationObserver(function (mutations, observer) {{\n",
              "        var display = window.getComputedStyle(gd).display;\n",
              "        if (!display || display === 'none') {{\n",
              "            console.log([gd, 'removed!']);\n",
              "            Plotly.purge(gd);\n",
              "            observer.disconnect();\n",
              "        }}\n",
              "}});\n",
              "\n",
              "// Listen for the removal of the full notebook cells\n",
              "var notebookContainer = gd.closest('#notebook-container');\n",
              "if (notebookContainer) {{\n",
              "    x.observe(notebookContainer, {childList: true});\n",
              "}}\n",
              "\n",
              "// Listen for the clearing of the current output cell\n",
              "var outputEl = gd.closest('.output');\n",
              "if (outputEl) {{\n",
              "    x.observe(outputEl, {childList: true});\n",
              "}}\n",
              "\n",
              "                        })\n",
              "                };\n",
              "                \n",
              "            </script>\n",
              "        </div>\n",
              "</body>\n",
              "</html>"
            ]
          },
          "metadata": {
            "tags": []
          }
        }
      ]
    },
    {
      "cell_type": "code",
      "metadata": {
        "id": "xxsZiru4THPl"
      },
      "source": [
        ""
      ],
      "execution_count": null,
      "outputs": []
    },
    {
      "cell_type": "code",
      "metadata": {
        "colab": {
          "base_uri": "https://localhost:8080/"
        },
        "id": "4mgf3qMhOA7Z",
        "outputId": "d6146673-7f5b-4fc7-a5de-747c22693189"
      },
      "source": [
        "## number of unique tracts\n",
        "df_25_75[\"tract\"].count()"
      ],
      "execution_count": null,
      "outputs": [
        {
          "output_type": "execute_result",
          "data": {
            "text/plain": [
              "33"
            ]
          },
          "metadata": {
            "tags": []
          },
          "execution_count": 93
        }
      ]
    },
    {
      "cell_type": "code",
      "metadata": {
        "colab": {
          "base_uri": "https://localhost:8080/"
        },
        "id": "Nx_fJNS-OV38",
        "outputId": "7b021544-d3a7-4665-8bd2-3aa9a5105cfb"
      },
      "source": [
        "df_25_75.columns.tolist()"
      ],
      "execution_count": null,
      "outputs": [
        {
          "output_type": "execute_result",
          "data": {
            "text/plain": [
              "['tract',\n",
              " 'Name',\n",
              " 'Household_Income_rP_gP_p25',\n",
              " 'Household_Income_rP_gP_p50',\n",
              " 'Household_Income_rP_gP_p75']"
            ]
          },
          "metadata": {
            "tags": []
          },
          "execution_count": 94
        }
      ]
    },
    {
      "cell_type": "code",
      "metadata": {
        "colab": {
          "base_uri": "https://localhost:8080/",
          "height": 1000
        },
        "id": "znFEiNDQPZbu",
        "outputId": "58495eeb-e717-4e7e-e2d4-dc41da30ffd9"
      },
      "source": [
        "df_25_75"
      ],
      "execution_count": null,
      "outputs": [
        {
          "output_type": "execute_result",
          "data": {
            "text/html": [
              "<div>\n",
              "<style scoped>\n",
              "    .dataframe tbody tr th:only-of-type {\n",
              "        vertical-align: middle;\n",
              "    }\n",
              "\n",
              "    .dataframe tbody tr th {\n",
              "        vertical-align: top;\n",
              "    }\n",
              "\n",
              "    .dataframe thead th {\n",
              "        text-align: right;\n",
              "    }\n",
              "</style>\n",
              "<table border=\"1\" class=\"dataframe\">\n",
              "  <thead>\n",
              "    <tr style=\"text-align: right;\">\n",
              "      <th></th>\n",
              "      <th>tract</th>\n",
              "      <th>Name</th>\n",
              "      <th>Household_Income_rP_gP_p25</th>\n",
              "      <th>Household_Income_rP_gP_p50</th>\n",
              "      <th>Household_Income_rP_gP_p75</th>\n",
              "    </tr>\n",
              "  </thead>\n",
              "  <tbody>\n",
              "    <tr>\n",
              "      <th>29</th>\n",
              "      <td>24510271001</td>\n",
              "      <td>Baltimore, MD</td>\n",
              "      <td>19162.0</td>\n",
              "      <td>23428.0</td>\n",
              "      <td>27539.0</td>\n",
              "    </tr>\n",
              "    <tr>\n",
              "      <th>31</th>\n",
              "      <td>24510100200</td>\n",
              "      <td>Baltimore, MD</td>\n",
              "      <td>18460.0</td>\n",
              "      <td>23773.0</td>\n",
              "      <td>28908.0</td>\n",
              "    </tr>\n",
              "    <tr>\n",
              "      <th>30</th>\n",
              "      <td>24510230100</td>\n",
              "      <td>Baltimore, MD</td>\n",
              "      <td>18931.0</td>\n",
              "      <td>25815.0</td>\n",
              "      <td>32526.0</td>\n",
              "    </tr>\n",
              "    <tr>\n",
              "      <th>28</th>\n",
              "      <td>24510060400</td>\n",
              "      <td>Baltimore, MD</td>\n",
              "      <td>19360.0</td>\n",
              "      <td>26733.0</td>\n",
              "      <td>33959.0</td>\n",
              "    </tr>\n",
              "    <tr>\n",
              "      <th>27</th>\n",
              "      <td>24510200600</td>\n",
              "      <td>Baltimore, MD</td>\n",
              "      <td>19900.0</td>\n",
              "      <td>28482.0</td>\n",
              "      <td>37037.0</td>\n",
              "    </tr>\n",
              "    <tr>\n",
              "      <th>25</th>\n",
              "      <td>24510060200</td>\n",
              "      <td>Baltimore, MD</td>\n",
              "      <td>22703.0</td>\n",
              "      <td>30135.0</td>\n",
              "      <td>37582.0</td>\n",
              "    </tr>\n",
              "    <tr>\n",
              "      <th>26</th>\n",
              "      <td>24510070100</td>\n",
              "      <td>Baltimore, MD</td>\n",
              "      <td>21714.0</td>\n",
              "      <td>30532.0</td>\n",
              "      <td>39479.0</td>\n",
              "    </tr>\n",
              "    <tr>\n",
              "      <th>22</th>\n",
              "      <td>24510280401</td>\n",
              "      <td>Baltimore, MD</td>\n",
              "      <td>25705.0</td>\n",
              "      <td>32009.0</td>\n",
              "      <td>38359.0</td>\n",
              "    </tr>\n",
              "    <tr>\n",
              "      <th>16</th>\n",
              "      <td>24005452300</td>\n",
              "      <td>Baltimore, MD</td>\n",
              "      <td>29347.0</td>\n",
              "      <td>33609.0</td>\n",
              "      <td>37860.0</td>\n",
              "    </tr>\n",
              "    <tr>\n",
              "      <th>23</th>\n",
              "      <td>24510260900</td>\n",
              "      <td>Baltimore, MD</td>\n",
              "      <td>25295.0</td>\n",
              "      <td>34603.0</td>\n",
              "      <td>44428.0</td>\n",
              "    </tr>\n",
              "    <tr>\n",
              "      <th>18</th>\n",
              "      <td>24005421101</td>\n",
              "      <td>Baltimore, MD</td>\n",
              "      <td>28306.0</td>\n",
              "      <td>35871.0</td>\n",
              "      <td>43774.0</td>\n",
              "    </tr>\n",
              "    <tr>\n",
              "      <th>15</th>\n",
              "      <td>24003750102</td>\n",
              "      <td>Baltimore, MD</td>\n",
              "      <td>30261.0</td>\n",
              "      <td>36076.0</td>\n",
              "      <td>42030.0</td>\n",
              "    </tr>\n",
              "    <tr>\n",
              "      <th>24</th>\n",
              "      <td>24005441000</td>\n",
              "      <td>Baltimore, MD</td>\n",
              "      <td>24621.0</td>\n",
              "      <td>36133.0</td>\n",
              "      <td>48770.0</td>\n",
              "    </tr>\n",
              "    <tr>\n",
              "      <th>20</th>\n",
              "      <td>24510272003</td>\n",
              "      <td>Baltimore, MD</td>\n",
              "      <td>26990.0</td>\n",
              "      <td>36702.0</td>\n",
              "      <td>47180.0</td>\n",
              "    </tr>\n",
              "    <tr>\n",
              "      <th>17</th>\n",
              "      <td>24003750203</td>\n",
              "      <td>Baltimore, MD</td>\n",
              "      <td>28787.0</td>\n",
              "      <td>36760.0</td>\n",
              "      <td>45177.0</td>\n",
              "    </tr>\n",
              "    <tr>\n",
              "      <th>19</th>\n",
              "      <td>24510220100</td>\n",
              "      <td>Baltimore, MD</td>\n",
              "      <td>27467.0</td>\n",
              "      <td>38226.0</td>\n",
              "      <td>50144.0</td>\n",
              "    </tr>\n",
              "    <tr>\n",
              "      <th>21</th>\n",
              "      <td>24510120201</td>\n",
              "      <td>Baltimore, MD</td>\n",
              "      <td>26149.0</td>\n",
              "      <td>39317.0</td>\n",
              "      <td>54559.0</td>\n",
              "    </tr>\n",
              "    <tr>\n",
              "      <th>8</th>\n",
              "      <td>24005430900</td>\n",
              "      <td>Baltimore, MD</td>\n",
              "      <td>34996.0</td>\n",
              "      <td>41953.0</td>\n",
              "      <td>49391.0</td>\n",
              "    </tr>\n",
              "    <tr>\n",
              "      <th>12</th>\n",
              "      <td>24005420600</td>\n",
              "      <td>Baltimore, MD</td>\n",
              "      <td>32390.0</td>\n",
              "      <td>42192.0</td>\n",
              "      <td>53186.0</td>\n",
              "    </tr>\n",
              "    <tr>\n",
              "      <th>13</th>\n",
              "      <td>24005491300</td>\n",
              "      <td>Baltimore, MD</td>\n",
              "      <td>32262.0</td>\n",
              "      <td>42623.0</td>\n",
              "      <td>54377.0</td>\n",
              "    </tr>\n",
              "    <tr>\n",
              "      <th>11</th>\n",
              "      <td>24005440400</td>\n",
              "      <td>Baltimore, MD</td>\n",
              "      <td>33040.0</td>\n",
              "      <td>43306.0</td>\n",
              "      <td>54976.0</td>\n",
              "    </tr>\n",
              "    <tr>\n",
              "      <th>14</th>\n",
              "      <td>24005400702</td>\n",
              "      <td>Baltimore, MD</td>\n",
              "      <td>30650.0</td>\n",
              "      <td>43428.0</td>\n",
              "      <td>58598.0</td>\n",
              "    </tr>\n",
              "    <tr>\n",
              "      <th>10</th>\n",
              "      <td>24005420500</td>\n",
              "      <td>Baltimore, MD</td>\n",
              "      <td>33766.0</td>\n",
              "      <td>44880.0</td>\n",
              "      <td>57786.0</td>\n",
              "    </tr>\n",
              "    <tr>\n",
              "      <th>7</th>\n",
              "      <td>24510120202</td>\n",
              "      <td>Baltimore, MD</td>\n",
              "      <td>36568.0</td>\n",
              "      <td>47462.0</td>\n",
              "      <td>60146.0</td>\n",
              "    </tr>\n",
              "    <tr>\n",
              "      <th>9</th>\n",
              "      <td>24005440100</td>\n",
              "      <td>Baltimore, MD</td>\n",
              "      <td>34200.0</td>\n",
              "      <td>47488.0</td>\n",
              "      <td>63630.0</td>\n",
              "    </tr>\n",
              "    <tr>\n",
              "      <th>6</th>\n",
              "      <td>24005491100</td>\n",
              "      <td>Baltimore, MD</td>\n",
              "      <td>45880.0</td>\n",
              "      <td>52549.0</td>\n",
              "      <td>59721.0</td>\n",
              "    </tr>\n",
              "    <tr>\n",
              "      <th>5</th>\n",
              "      <td>24005403602</td>\n",
              "      <td>Baltimore, MD</td>\n",
              "      <td>48514.0</td>\n",
              "      <td>54218.0</td>\n",
              "      <td>60236.0</td>\n",
              "    </tr>\n",
              "    <tr>\n",
              "      <th>3</th>\n",
              "      <td>24005490603</td>\n",
              "      <td>Baltimore, MD</td>\n",
              "      <td>51212.0</td>\n",
              "      <td>55883.0</td>\n",
              "      <td>60709.0</td>\n",
              "    </tr>\n",
              "    <tr>\n",
              "      <th>4</th>\n",
              "      <td>24005490602</td>\n",
              "      <td>Baltimore, MD</td>\n",
              "      <td>50819.0</td>\n",
              "      <td>56797.0</td>\n",
              "      <td>63092.0</td>\n",
              "    </tr>\n",
              "    <tr>\n",
              "      <th>2</th>\n",
              "      <td>24005490601</td>\n",
              "      <td>Baltimore, MD</td>\n",
              "      <td>51258.0</td>\n",
              "      <td>57371.0</td>\n",
              "      <td>63814.0</td>\n",
              "    </tr>\n",
              "    <tr>\n",
              "      <th>1</th>\n",
              "      <td>24005403601</td>\n",
              "      <td>Baltimore, MD</td>\n",
              "      <td>53687.0</td>\n",
              "      <td>62646.0</td>\n",
              "      <td>72321.0</td>\n",
              "    </tr>\n",
              "    <tr>\n",
              "      <th>0</th>\n",
              "      <td>24005491000</td>\n",
              "      <td>Baltimore, MD</td>\n",
              "      <td>61635.0</td>\n",
              "      <td>64766.0</td>\n",
              "      <td>67867.0</td>\n",
              "    </tr>\n",
              "    <tr>\n",
              "      <th>32</th>\n",
              "      <td>24005492500</td>\n",
              "      <td>Baltimore, MD</td>\n",
              "      <td>NaN</td>\n",
              "      <td>NaN</td>\n",
              "      <td>NaN</td>\n",
              "    </tr>\n",
              "  </tbody>\n",
              "</table>\n",
              "</div>"
            ],
            "text/plain": [
              "          tract  ... Household_Income_rP_gP_p75\n",
              "29  24510271001  ...                    27539.0\n",
              "31  24510100200  ...                    28908.0\n",
              "30  24510230100  ...                    32526.0\n",
              "28  24510060400  ...                    33959.0\n",
              "27  24510200600  ...                    37037.0\n",
              "25  24510060200  ...                    37582.0\n",
              "26  24510070100  ...                    39479.0\n",
              "22  24510280401  ...                    38359.0\n",
              "16  24005452300  ...                    37860.0\n",
              "23  24510260900  ...                    44428.0\n",
              "18  24005421101  ...                    43774.0\n",
              "15  24003750102  ...                    42030.0\n",
              "24  24005441000  ...                    48770.0\n",
              "20  24510272003  ...                    47180.0\n",
              "17  24003750203  ...                    45177.0\n",
              "19  24510220100  ...                    50144.0\n",
              "21  24510120201  ...                    54559.0\n",
              "8   24005430900  ...                    49391.0\n",
              "12  24005420600  ...                    53186.0\n",
              "13  24005491300  ...                    54377.0\n",
              "11  24005440400  ...                    54976.0\n",
              "14  24005400702  ...                    58598.0\n",
              "10  24005420500  ...                    57786.0\n",
              "7   24510120202  ...                    60146.0\n",
              "9   24005440100  ...                    63630.0\n",
              "6   24005491100  ...                    59721.0\n",
              "5   24005403602  ...                    60236.0\n",
              "3   24005490603  ...                    60709.0\n",
              "4   24005490602  ...                    63092.0\n",
              "2   24005490601  ...                    63814.0\n",
              "1   24005403601  ...                    72321.0\n",
              "0   24005491000  ...                    67867.0\n",
              "32  24005492500  ...                        NaN\n",
              "\n",
              "[33 rows x 5 columns]"
            ]
          },
          "metadata": {
            "tags": []
          },
          "execution_count": 95
        }
      ]
    },
    {
      "cell_type": "code",
      "metadata": {
        "colab": {
          "base_uri": "https://localhost:8080/"
        },
        "id": "wkgpY1upOfXk",
        "outputId": "7651aaf0-05b0-4cfa-82b9-ab1e9f3b5061"
      },
      "source": [
        "df_25_75.info()"
      ],
      "execution_count": null,
      "outputs": [
        {
          "output_type": "stream",
          "text": [
            "<class 'pandas.core.frame.DataFrame'>\n",
            "Int64Index: 33 entries, 29 to 32\n",
            "Data columns (total 5 columns):\n",
            " #   Column                      Non-Null Count  Dtype  \n",
            "---  ------                      --------------  -----  \n",
            " 0   tract                       33 non-null     int64  \n",
            " 1   Name                        33 non-null     object \n",
            " 2   Household_Income_rP_gP_p25  32 non-null     float64\n",
            " 3   Household_Income_rP_gP_p50  32 non-null     float64\n",
            " 4   Household_Income_rP_gP_p75  32 non-null     float64\n",
            "dtypes: float64(3), int64(1), object(1)\n",
            "memory usage: 1.5+ KB\n"
          ],
          "name": "stdout"
        }
      ]
    },
    {
      "cell_type": "code",
      "metadata": {
        "id": "XD9mixZUO8TU"
      },
      "source": [
        "# make tract a \"string\" data type\n",
        "df_25_75[\"tract\"] = df_25_75[\"tract\"].astype(str)"
      ],
      "execution_count": null,
      "outputs": []
    },
    {
      "cell_type": "code",
      "metadata": {
        "id": "rq6ZgcyQOHGd"
      },
      "source": [
        "bar_25_75 = px.bar(df_25_75,\n",
        "                   x = \"tract\",\n",
        "                   y = \"Household_Income_rP_gP_p25\")"
      ],
      "execution_count": null,
      "outputs": []
    },
    {
      "cell_type": "code",
      "metadata": {
        "colab": {
          "base_uri": "https://localhost:8080/",
          "height": 542
        },
        "id": "k-Kh3z_QOa6t",
        "outputId": "78b18eda-c978-4157-ae48-4ed503e2d1b9"
      },
      "source": [
        "bar_25_75"
      ],
      "execution_count": null,
      "outputs": [
        {
          "output_type": "display_data",
          "data": {
            "text/html": [
              "<html>\n",
              "<head><meta charset=\"utf-8\" /></head>\n",
              "<body>\n",
              "    <div>\n",
              "            <script src=\"https://cdnjs.cloudflare.com/ajax/libs/mathjax/2.7.5/MathJax.js?config=TeX-AMS-MML_SVG\"></script><script type=\"text/javascript\">if (window.MathJax) {MathJax.Hub.Config({SVG: {font: \"STIX-Web\"}});}</script>\n",
              "                <script type=\"text/javascript\">window.PlotlyConfig = {MathJaxConfig: 'local'};</script>\n",
              "        <script src=\"https://cdn.plot.ly/plotly-latest.min.js\"></script>    \n",
              "            <div id=\"e31fb4dc-8466-44a9-bbd7-1fb0bf1bdebe\" class=\"plotly-graph-div\" style=\"height:525px; width:100%;\"></div>\n",
              "            <script type=\"text/javascript\">\n",
              "                \n",
              "                    window.PLOTLYENV=window.PLOTLYENV || {};\n",
              "                    \n",
              "                if (document.getElementById(\"e31fb4dc-8466-44a9-bbd7-1fb0bf1bdebe\")) {\n",
              "                    Plotly.newPlot(\n",
              "                        'e31fb4dc-8466-44a9-bbd7-1fb0bf1bdebe',\n",
              "                        [{\"alignmentgroup\": \"True\", \"hoverlabel\": {\"namelength\": 0}, \"hovertemplate\": \"tract=%{x}<br>Household_Income_rP_gP_p25=%{y}\", \"legendgroup\": \"\", \"marker\": {\"color\": \"#636efa\"}, \"name\": \"\", \"offsetgroup\": \"\", \"orientation\": \"v\", \"showlegend\": false, \"textposition\": \"auto\", \"type\": \"bar\", \"x\": [\"24510271001\", \"24510100200\", \"24510230100\", \"24510060400\", \"24510200600\", \"24510060200\", \"24510070100\", \"24510280401\", \"24005452300\", \"24510260900\", \"24005421101\", \"24003750102\", \"24005441000\", \"24510272003\", \"24003750203\", \"24510220100\", \"24510120201\", \"24005430900\", \"24005420600\", \"24005491300\", \"24005440400\", \"24005400702\", \"24005420500\", \"24510120202\", \"24005440100\", \"24005491100\", \"24005403602\", \"24005490603\", \"24005490602\", \"24005490601\", \"24005403601\", \"24005491000\", \"24005492500\"], \"xaxis\": \"x\", \"y\": [19162.0, 18460.0, 18931.0, 19360.0, 19900.0, 22703.0, 21714.0, 25705.0, 29347.0, 25295.0, 28306.0, 30261.0, 24621.0, 26990.0, 28787.0, 27467.0, 26149.0, 34996.0, 32390.0, 32262.0, 33040.0, 30650.0, 33766.0, 36568.0, 34200.0, 45880.0, 48514.0, 51212.0, 50819.0, 51258.0, 53687.0, 61635.0, null], \"yaxis\": \"y\"}],\n",
              "                        {\"barmode\": \"relative\", \"legend\": {\"tracegroupgap\": 0}, \"margin\": {\"t\": 60}, \"template\": {\"data\": {\"bar\": [{\"error_x\": {\"color\": \"#2a3f5f\"}, \"error_y\": {\"color\": \"#2a3f5f\"}, \"marker\": {\"line\": {\"color\": \"#E5ECF6\", \"width\": 0.5}}, \"type\": \"bar\"}], \"barpolar\": [{\"marker\": {\"line\": {\"color\": \"#E5ECF6\", \"width\": 0.5}}, \"type\": \"barpolar\"}], \"carpet\": [{\"aaxis\": {\"endlinecolor\": \"#2a3f5f\", \"gridcolor\": \"white\", \"linecolor\": \"white\", \"minorgridcolor\": \"white\", \"startlinecolor\": \"#2a3f5f\"}, \"baxis\": {\"endlinecolor\": \"#2a3f5f\", \"gridcolor\": \"white\", \"linecolor\": \"white\", \"minorgridcolor\": \"white\", \"startlinecolor\": \"#2a3f5f\"}, \"type\": \"carpet\"}], \"choropleth\": [{\"colorbar\": {\"outlinewidth\": 0, \"ticks\": \"\"}, \"type\": \"choropleth\"}], \"contour\": [{\"colorbar\": {\"outlinewidth\": 0, \"ticks\": \"\"}, \"colorscale\": [[0.0, \"#0d0887\"], [0.1111111111111111, \"#46039f\"], [0.2222222222222222, \"#7201a8\"], [0.3333333333333333, \"#9c179e\"], [0.4444444444444444, \"#bd3786\"], [0.5555555555555556, \"#d8576b\"], [0.6666666666666666, \"#ed7953\"], [0.7777777777777778, \"#fb9f3a\"], [0.8888888888888888, \"#fdca26\"], [1.0, \"#f0f921\"]], \"type\": \"contour\"}], \"contourcarpet\": [{\"colorbar\": {\"outlinewidth\": 0, \"ticks\": \"\"}, \"type\": \"contourcarpet\"}], \"heatmap\": [{\"colorbar\": {\"outlinewidth\": 0, \"ticks\": \"\"}, \"colorscale\": [[0.0, \"#0d0887\"], [0.1111111111111111, \"#46039f\"], [0.2222222222222222, \"#7201a8\"], [0.3333333333333333, \"#9c179e\"], [0.4444444444444444, \"#bd3786\"], [0.5555555555555556, \"#d8576b\"], [0.6666666666666666, \"#ed7953\"], [0.7777777777777778, \"#fb9f3a\"], [0.8888888888888888, \"#fdca26\"], [1.0, \"#f0f921\"]], \"type\": \"heatmap\"}], \"heatmapgl\": [{\"colorbar\": {\"outlinewidth\": 0, \"ticks\": \"\"}, \"colorscale\": [[0.0, \"#0d0887\"], [0.1111111111111111, \"#46039f\"], [0.2222222222222222, \"#7201a8\"], [0.3333333333333333, \"#9c179e\"], [0.4444444444444444, \"#bd3786\"], [0.5555555555555556, \"#d8576b\"], [0.6666666666666666, \"#ed7953\"], [0.7777777777777778, \"#fb9f3a\"], [0.8888888888888888, \"#fdca26\"], [1.0, \"#f0f921\"]], \"type\": \"heatmapgl\"}], \"histogram\": [{\"marker\": {\"colorbar\": {\"outlinewidth\": 0, \"ticks\": \"\"}}, \"type\": \"histogram\"}], \"histogram2d\": [{\"colorbar\": {\"outlinewidth\": 0, \"ticks\": \"\"}, \"colorscale\": [[0.0, \"#0d0887\"], [0.1111111111111111, \"#46039f\"], [0.2222222222222222, \"#7201a8\"], [0.3333333333333333, \"#9c179e\"], [0.4444444444444444, \"#bd3786\"], [0.5555555555555556, \"#d8576b\"], [0.6666666666666666, \"#ed7953\"], [0.7777777777777778, \"#fb9f3a\"], [0.8888888888888888, \"#fdca26\"], [1.0, \"#f0f921\"]], \"type\": \"histogram2d\"}], \"histogram2dcontour\": [{\"colorbar\": {\"outlinewidth\": 0, \"ticks\": \"\"}, \"colorscale\": [[0.0, \"#0d0887\"], [0.1111111111111111, \"#46039f\"], [0.2222222222222222, \"#7201a8\"], [0.3333333333333333, \"#9c179e\"], [0.4444444444444444, \"#bd3786\"], [0.5555555555555556, \"#d8576b\"], [0.6666666666666666, \"#ed7953\"], [0.7777777777777778, \"#fb9f3a\"], [0.8888888888888888, \"#fdca26\"], [1.0, \"#f0f921\"]], \"type\": \"histogram2dcontour\"}], \"mesh3d\": [{\"colorbar\": {\"outlinewidth\": 0, \"ticks\": \"\"}, \"type\": \"mesh3d\"}], \"parcoords\": [{\"line\": {\"colorbar\": {\"outlinewidth\": 0, \"ticks\": \"\"}}, \"type\": \"parcoords\"}], \"pie\": [{\"automargin\": true, \"type\": \"pie\"}], \"scatter\": [{\"marker\": {\"colorbar\": {\"outlinewidth\": 0, \"ticks\": \"\"}}, \"type\": \"scatter\"}], \"scatter3d\": [{\"line\": {\"colorbar\": {\"outlinewidth\": 0, \"ticks\": \"\"}}, \"marker\": {\"colorbar\": {\"outlinewidth\": 0, \"ticks\": \"\"}}, \"type\": \"scatter3d\"}], \"scattercarpet\": [{\"marker\": {\"colorbar\": {\"outlinewidth\": 0, \"ticks\": \"\"}}, \"type\": \"scattercarpet\"}], \"scattergeo\": [{\"marker\": {\"colorbar\": {\"outlinewidth\": 0, \"ticks\": \"\"}}, \"type\": \"scattergeo\"}], \"scattergl\": [{\"marker\": {\"colorbar\": {\"outlinewidth\": 0, \"ticks\": \"\"}}, \"type\": \"scattergl\"}], \"scattermapbox\": [{\"marker\": {\"colorbar\": {\"outlinewidth\": 0, \"ticks\": \"\"}}, \"type\": \"scattermapbox\"}], \"scatterpolar\": [{\"marker\": {\"colorbar\": {\"outlinewidth\": 0, \"ticks\": \"\"}}, \"type\": \"scatterpolar\"}], \"scatterpolargl\": [{\"marker\": {\"colorbar\": {\"outlinewidth\": 0, \"ticks\": \"\"}}, \"type\": \"scatterpolargl\"}], \"scatterternary\": [{\"marker\": {\"colorbar\": {\"outlinewidth\": 0, \"ticks\": \"\"}}, \"type\": \"scatterternary\"}], \"surface\": [{\"colorbar\": {\"outlinewidth\": 0, \"ticks\": \"\"}, \"colorscale\": [[0.0, \"#0d0887\"], [0.1111111111111111, \"#46039f\"], [0.2222222222222222, \"#7201a8\"], [0.3333333333333333, \"#9c179e\"], [0.4444444444444444, \"#bd3786\"], [0.5555555555555556, \"#d8576b\"], [0.6666666666666666, \"#ed7953\"], [0.7777777777777778, \"#fb9f3a\"], [0.8888888888888888, \"#fdca26\"], [1.0, \"#f0f921\"]], \"type\": \"surface\"}], \"table\": [{\"cells\": {\"fill\": {\"color\": \"#EBF0F8\"}, \"line\": {\"color\": \"white\"}}, \"header\": {\"fill\": {\"color\": \"#C8D4E3\"}, \"line\": {\"color\": \"white\"}}, \"type\": \"table\"}]}, \"layout\": {\"annotationdefaults\": {\"arrowcolor\": \"#2a3f5f\", \"arrowhead\": 0, \"arrowwidth\": 1}, \"coloraxis\": {\"colorbar\": {\"outlinewidth\": 0, \"ticks\": \"\"}}, \"colorscale\": {\"diverging\": [[0, \"#8e0152\"], [0.1, \"#c51b7d\"], [0.2, \"#de77ae\"], [0.3, \"#f1b6da\"], [0.4, \"#fde0ef\"], [0.5, \"#f7f7f7\"], [0.6, \"#e6f5d0\"], [0.7, \"#b8e186\"], [0.8, \"#7fbc41\"], [0.9, \"#4d9221\"], [1, \"#276419\"]], \"sequential\": [[0.0, \"#0d0887\"], [0.1111111111111111, \"#46039f\"], [0.2222222222222222, \"#7201a8\"], [0.3333333333333333, \"#9c179e\"], [0.4444444444444444, \"#bd3786\"], [0.5555555555555556, \"#d8576b\"], [0.6666666666666666, \"#ed7953\"], [0.7777777777777778, \"#fb9f3a\"], [0.8888888888888888, \"#fdca26\"], [1.0, \"#f0f921\"]], \"sequentialminus\": [[0.0, \"#0d0887\"], [0.1111111111111111, \"#46039f\"], [0.2222222222222222, \"#7201a8\"], [0.3333333333333333, \"#9c179e\"], [0.4444444444444444, \"#bd3786\"], [0.5555555555555556, \"#d8576b\"], [0.6666666666666666, \"#ed7953\"], [0.7777777777777778, \"#fb9f3a\"], [0.8888888888888888, \"#fdca26\"], [1.0, \"#f0f921\"]]}, \"colorway\": [\"#636efa\", \"#EF553B\", \"#00cc96\", \"#ab63fa\", \"#FFA15A\", \"#19d3f3\", \"#FF6692\", \"#B6E880\", \"#FF97FF\", \"#FECB52\"], \"font\": {\"color\": \"#2a3f5f\"}, \"geo\": {\"bgcolor\": \"white\", \"lakecolor\": \"white\", \"landcolor\": \"#E5ECF6\", \"showlakes\": true, \"showland\": true, \"subunitcolor\": \"white\"}, \"hoverlabel\": {\"align\": \"left\"}, \"hovermode\": \"closest\", \"mapbox\": {\"style\": \"light\"}, \"paper_bgcolor\": \"white\", \"plot_bgcolor\": \"#E5ECF6\", \"polar\": {\"angularaxis\": {\"gridcolor\": \"white\", \"linecolor\": \"white\", \"ticks\": \"\"}, \"bgcolor\": \"#E5ECF6\", \"radialaxis\": {\"gridcolor\": \"white\", \"linecolor\": \"white\", \"ticks\": \"\"}}, \"scene\": {\"xaxis\": {\"backgroundcolor\": \"#E5ECF6\", \"gridcolor\": \"white\", \"gridwidth\": 2, \"linecolor\": \"white\", \"showbackground\": true, \"ticks\": \"\", \"zerolinecolor\": \"white\"}, \"yaxis\": {\"backgroundcolor\": \"#E5ECF6\", \"gridcolor\": \"white\", \"gridwidth\": 2, \"linecolor\": \"white\", \"showbackground\": true, \"ticks\": \"\", \"zerolinecolor\": \"white\"}, \"zaxis\": {\"backgroundcolor\": \"#E5ECF6\", \"gridcolor\": \"white\", \"gridwidth\": 2, \"linecolor\": \"white\", \"showbackground\": true, \"ticks\": \"\", \"zerolinecolor\": \"white\"}}, \"shapedefaults\": {\"line\": {\"color\": \"#2a3f5f\"}}, \"ternary\": {\"aaxis\": {\"gridcolor\": \"white\", \"linecolor\": \"white\", \"ticks\": \"\"}, \"baxis\": {\"gridcolor\": \"white\", \"linecolor\": \"white\", \"ticks\": \"\"}, \"bgcolor\": \"#E5ECF6\", \"caxis\": {\"gridcolor\": \"white\", \"linecolor\": \"white\", \"ticks\": \"\"}}, \"title\": {\"x\": 0.05}, \"xaxis\": {\"automargin\": true, \"gridcolor\": \"white\", \"linecolor\": \"white\", \"ticks\": \"\", \"title\": {\"standoff\": 15}, \"zerolinecolor\": \"white\", \"zerolinewidth\": 2}, \"yaxis\": {\"automargin\": true, \"gridcolor\": \"white\", \"linecolor\": \"white\", \"ticks\": \"\", \"title\": {\"standoff\": 15}, \"zerolinecolor\": \"white\", \"zerolinewidth\": 2}}}, \"xaxis\": {\"anchor\": \"y\", \"domain\": [0.0, 1.0], \"title\": {\"text\": \"tract\"}}, \"yaxis\": {\"anchor\": \"x\", \"domain\": [0.0, 1.0], \"title\": {\"text\": \"Household_Income_rP_gP_p25\"}}},\n",
              "                        {\"responsive\": true}\n",
              "                    ).then(function(){\n",
              "                            \n",
              "var gd = document.getElementById('e31fb4dc-8466-44a9-bbd7-1fb0bf1bdebe');\n",
              "var x = new MutationObserver(function (mutations, observer) {{\n",
              "        var display = window.getComputedStyle(gd).display;\n",
              "        if (!display || display === 'none') {{\n",
              "            console.log([gd, 'removed!']);\n",
              "            Plotly.purge(gd);\n",
              "            observer.disconnect();\n",
              "        }}\n",
              "}});\n",
              "\n",
              "// Listen for the removal of the full notebook cells\n",
              "var notebookContainer = gd.closest('#notebook-container');\n",
              "if (notebookContainer) {{\n",
              "    x.observe(notebookContainer, {childList: true});\n",
              "}}\n",
              "\n",
              "// Listen for the clearing of the current output cell\n",
              "var outputEl = gd.closest('.output');\n",
              "if (outputEl) {{\n",
              "    x.observe(outputEl, {childList: true});\n",
              "}}\n",
              "\n",
              "                        })\n",
              "                };\n",
              "                \n",
              "            </script>\n",
              "        </div>\n",
              "</body>\n",
              "</html>"
            ]
          },
          "metadata": {
            "tags": []
          }
        }
      ]
    },
    {
      "cell_type": "code",
      "metadata": {
        "id": "00RO-sv1Oc1b"
      },
      "source": [
        ""
      ],
      "execution_count": null,
      "outputs": []
    }
  ]
}